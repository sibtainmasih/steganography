{
 "cells": [
  {
   "cell_type": "code",
   "execution_count": 3,
   "metadata": {},
   "outputs": [],
   "source": [
    "def lookup_range_table(d):\n",
    "    if d<=1:\n",
    "        return 0, 1, 1, 0\n",
    "    elif d<=3:\n",
    "        return 2, 3, 2, 1\n",
    "    elif d<=7:\n",
    "        return 4, 7, 4, 2\n",
    "    elif d<=15:\n",
    "        return 8, 15, 8, 3\n",
    "    elif d<=31:\n",
    "        return 16, 31, 16, 4\n",
    "    elif d<=63:\n",
    "        return 32, 63, 32, 5\n",
    "    elif d<=127:\n",
    "        return 64, 127, 64, 6\n",
    "    else:\n",
    "        raise ValueError(\"Difference value {} is out of range table boundaries.\".format(d))"
   ]
  },
  {
   "cell_type": "code",
   "execution_count": 5,
   "metadata": {},
   "outputs": [
    {
     "name": "stdout",
     "output_type": "stream",
     "text": [
      "When d=0\n",
      "(0, 1, 1, 0)\n",
      "--------------------\n",
      "When d=1\n",
      "(0, 1, 1, 0)\n",
      "--------------------\n",
      "When d=2\n",
      "(2, 3, 2, 1)\n",
      "--------------------\n",
      "When d=3\n",
      "(2, 3, 2, 1)\n",
      "--------------------\n",
      "When d=4\n",
      "(4, 7, 4, 2)\n",
      "--------------------\n",
      "When d=7\n",
      "(4, 7, 4, 2)\n",
      "--------------------\n",
      "When d=8\n",
      "(8, 15, 8, 3)\n",
      "--------------------\n",
      "When d=15\n",
      "(8, 15, 8, 3)\n",
      "--------------------\n",
      "When d=31\n",
      "(16, 31, 16, 4)\n",
      "--------------------\n",
      "When d=63\n",
      "(32, 63, 32, 5)\n",
      "--------------------\n",
      "When d=64\n",
      "(64, 127, 64, 6)\n",
      "--------------------\n",
      "When d=127\n",
      "(64, 127, 64, 6)\n",
      "--------------------\n",
      "When d=128\n"
     ]
    },
    {
     "ename": "ValueError",
     "evalue": "Difference value 128 is out of range table boundaries.",
     "output_type": "error",
     "traceback": [
      "\u001b[0;31m---------------------------------------------------------------------------\u001b[0m",
      "\u001b[0;31mValueError\u001b[0m                                Traceback (most recent call last)",
      "\u001b[0;32m<ipython-input-5-98491baf3467>\u001b[0m in \u001b[0;36m<module>\u001b[0;34m()\u001b[0m\n\u001b[1;32m     36\u001b[0m \u001b[0mprint\u001b[0m\u001b[0;34m(\u001b[0m\u001b[0;34m\"-\"\u001b[0m\u001b[0;34m*\u001b[0m\u001b[0;36m20\u001b[0m\u001b[0;34m)\u001b[0m\u001b[0;34m\u001b[0m\u001b[0m\n\u001b[1;32m     37\u001b[0m \u001b[0mprint\u001b[0m\u001b[0;34m(\u001b[0m\u001b[0;34m\"When d=128\"\u001b[0m\u001b[0;34m)\u001b[0m\u001b[0;34m\u001b[0m\u001b[0m\n\u001b[0;32m---> 38\u001b[0;31m \u001b[0mprint\u001b[0m\u001b[0;34m(\u001b[0m\u001b[0mlookup_range_table\u001b[0m\u001b[0;34m(\u001b[0m\u001b[0;36m128\u001b[0m\u001b[0;34m)\u001b[0m\u001b[0;34m)\u001b[0m\u001b[0;34m;\u001b[0m\u001b[0;34m\u001b[0m\u001b[0m\n\u001b[0m",
      "\u001b[0;32m<ipython-input-3-c451b1209c77>\u001b[0m in \u001b[0;36mlookup_range_table\u001b[0;34m(d)\u001b[0m\n\u001b[1;32m     15\u001b[0m         \u001b[0;32mreturn\u001b[0m \u001b[0;36m64\u001b[0m\u001b[0;34m,\u001b[0m \u001b[0;36m127\u001b[0m\u001b[0;34m,\u001b[0m \u001b[0;36m64\u001b[0m\u001b[0;34m,\u001b[0m \u001b[0;36m6\u001b[0m\u001b[0;34m\u001b[0m\u001b[0m\n\u001b[1;32m     16\u001b[0m     \u001b[0;32melse\u001b[0m\u001b[0;34m:\u001b[0m\u001b[0;34m\u001b[0m\u001b[0m\n\u001b[0;32m---> 17\u001b[0;31m         \u001b[0;32mraise\u001b[0m \u001b[0mValueError\u001b[0m\u001b[0;34m(\u001b[0m\u001b[0;34m\"Difference value {} is out of range table boundaries.\"\u001b[0m\u001b[0;34m.\u001b[0m\u001b[0mformat\u001b[0m\u001b[0;34m(\u001b[0m\u001b[0md\u001b[0m\u001b[0;34m)\u001b[0m\u001b[0;34m)\u001b[0m\u001b[0;34m\u001b[0m\u001b[0m\n\u001b[0m",
      "\u001b[0;31mValueError\u001b[0m: Difference value 128 is out of range table boundaries."
     ]
    }
   ],
   "source": [
    "print(\"When d=0\")\n",
    "print(lookup_range_table(0));\n",
    "print(\"-\"*20)\n",
    "print(\"When d=1\")\n",
    "print(lookup_range_table(1));\n",
    "print(\"-\"*20)\n",
    "print(\"When d=2\")\n",
    "print(lookup_range_table(2));\n",
    "print(\"-\"*20)\n",
    "print(\"When d=3\")\n",
    "print(lookup_range_table(3));\n",
    "print(\"-\"*20)\n",
    "print(\"When d=4\")\n",
    "print(lookup_range_table(4));\n",
    "print(\"-\"*20)\n",
    "print(\"When d=7\")\n",
    "print(lookup_range_table(7));\n",
    "print(\"-\"*20)\n",
    "print(\"When d=8\")\n",
    "print(lookup_range_table(8));\n",
    "print(\"-\"*20)\n",
    "print(\"When d=15\")\n",
    "print(lookup_range_table(15));\n",
    "print(\"-\"*20)\n",
    "print(\"When d=31\")\n",
    "print(lookup_range_table(31));\n",
    "print(\"-\"*20)\n",
    "print(\"When d=63\")\n",
    "print(lookup_range_table(63));\n",
    "print(\"-\"*20)\n",
    "print(\"When d=64\")\n",
    "print(lookup_range_table(64));\n",
    "print(\"-\"*20)\n",
    "print(\"When d=127\")\n",
    "print(lookup_range_table(127));\n",
    "print(\"-\"*20)\n",
    "print(\"When d=128\")\n",
    "print(lookup_range_table(128));\n"
   ]
  },
  {
   "cell_type": "code",
   "execution_count": 64,
   "metadata": {},
   "outputs": [],
   "source": [
    "import math\n",
    "\n",
    "class PixelValueDifferencing(object):\n",
    "    \n",
    "    def __init__(self, px, py):\n",
    "        self._px = px\n",
    "        self._py = py\n",
    "        self._d = math.fabs(self._px - self._py)\n",
    "        self._lower, self._upper, self._width, self._t = lookup_range_table(self._d)\n",
    "        print (\"l = {}, u = {}, w = {}, t = {}\".format(self._lower, self._upper, self._width, self._t))\n",
    "        \n",
    "    def get_new_pixels_int(self,int_value):\n",
    "        bin_data = bin(int_value)[2:].zfill(self._t)\n",
    "        assert (len(bin_data)==self._t), \"Data must not take more than {} bits to store value. It is taking {} bits.\".format(self._t, len(bin_data))\n",
    "        \n",
    "        t_dash = int_value\n",
    "        d_dash = t_dash + self._lower\n",
    "        \n",
    "        #TODO : Handle falling off the boundary\n",
    "        return self._adjust_pixels_with_data(d_dash)\n",
    "        \n",
    "    def get_new_pixels_bin(self, bin_value):\n",
    "        # To be implemented\n",
    "        pass\n",
    "    \n",
    "    def extract_data_int(self):\n",
    "        return int(self._d - self._lower)\n",
    "    \n",
    "    def extract_data_bin(self):\n",
    "        data_value = int(self._d - self._lower)\n",
    "        bin_data = bin(data_value)[2:].zfill(self._t)\n",
    "        return bin_data\n",
    "        \n",
    "    def _adjust_pixels_with_data(self, d_dash):\n",
    "        m = math.fabs(self._d-d_dash)\n",
    "        m1 = math.ceil(m/2.0)\n",
    "        m2 = math.floor(m/2.0)\n",
    "    \n",
    "        if self._d > d_dash:\n",
    "            return self._decrease_distance(m1,m2)\n",
    "        else:\n",
    "            return self._increase_distance(m1,m2)\n",
    "            \n",
    "    def _decrease_distance(self,m1,m2):\n",
    "        if self._px < self._py:\n",
    "            return self._px+m1, self._py-m2  \n",
    "        else: \n",
    "            return self._py+m1, self._px-m2\n",
    "            \n",
    "    def _increase_distance(self,m1,m2):\n",
    "        if self._px < self._py:\n",
    "            return self._px-m1, self._py+m2 \n",
    "        else: \n",
    "            return self._py-m1, self._px+m2\n",
    "        "
   ]
  },
  {
   "cell_type": "code",
   "execution_count": 68,
   "metadata": {},
   "outputs": [
    {
     "name": "stdout",
     "output_type": "stream",
     "text": [
      "l = 8, u = 15, w = 8, t = 3\n"
     ]
    },
    {
     "data": {
      "text/plain": [
       "(8, 17)"
      ]
     },
     "execution_count": 68,
     "metadata": {},
     "output_type": "execute_result"
    }
   ],
   "source": [
    "pvd = PixelValueDifferencing(5,20)\n",
    "pvd.get_new_pixels_int(1)"
   ]
  },
  {
   "cell_type": "code",
   "execution_count": 69,
   "metadata": {},
   "outputs": [
    {
     "name": "stdout",
     "output_type": "stream",
     "text": [
      "l = 8, u = 15, w = 8, t = 3\n",
      "Integer value = 1\n",
      "Binary value = 001\n"
     ]
    }
   ],
   "source": [
    "pvd = PixelValueDifferencing(8,17)\n",
    "print(\"Integer value = {}\".format(pvd.extract_data_int()))\n",
    "print(\"Binary value = {}\".format(pvd.extract_data_bin()))"
   ]
  },
  {
   "cell_type": "code",
   "execution_count": null,
   "metadata": {
    "collapsed": true
   },
   "outputs": [],
   "source": []
  }
 ],
 "metadata": {
  "kernelspec": {
   "display_name": "Python 3",
   "language": "python",
   "name": "python3"
  },
  "language_info": {
   "codemirror_mode": {
    "name": "ipython",
    "version": 3
   },
   "file_extension": ".py",
   "mimetype": "text/x-python",
   "name": "python",
   "nbconvert_exporter": "python",
   "pygments_lexer": "ipython3",
   "version": "3.4.3"
  }
 },
 "nbformat": 4,
 "nbformat_minor": 2
}
